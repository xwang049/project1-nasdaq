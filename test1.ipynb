{
 "cells": [
  {
   "cell_type": "code",
   "execution_count": null,
   "metadata": {},
   "outputs": [],
   "source": []
  },
  {
   "cell_type": "code",
   "execution_count": 13,
   "metadata": {},
   "outputs": [
    {
     "data": {
      "text/plain": [
       "True"
      ]
     },
     "execution_count": 13,
     "metadata": {},
     "output_type": "execute_result"
    }
   ],
   "source": [
    "import pandas as pd\n",
    "import nasdaqdatalink as nd\n",
    "import sqlite3\n",
    "import os\n",
    "import gzip\n",
    "import shutil\n",
    "import logging\n",
    "logging.basicConfig(level=logging.DEBUG)\n",
    "logger = logging.getLogger(__name__)\n",
    "\n",
    "\n",
    "from dotenv import load_dotenv\n",
    "load_dotenv()"
   ]
  },
  {
   "cell_type": "code",
   "execution_count": 15,
   "metadata": {},
   "outputs": [],
   "source": [
    "NASDAQ_API = os.environ.get('NASDAQ_API')\n",
    "nd.ApiConfig.api_key = NASDAQ_API"
   ]
  },
  {
   "cell_type": "code",
   "execution_count": 14,
   "metadata": {},
   "outputs": [],
   "source": [
    "MYSQL_HOST = os.getenv(\"MYSQL_HOST\")\n",
    "MYSQL_USER = os.getenv(\"MYSQL_USER\")\n",
    "MYSQL_PASSWORD = os.getenv(\"MYSQL_PASSWORD\")\n",
    "MYSQL_DB = os.getenv(\"MYSQL_DB\")\n",
    "\n",
    "DATABASE_URL = f\"mysql+mysqlconnector://{MYSQL_USER}:{MYSQL_PASSWORD}@{MYSQL_HOST}/{MYSQL_DB}\"\n"
   ]
  },
  {
   "cell_type": "code",
   "execution_count": 21,
   "metadata": {},
   "outputs": [],
   "source": [
    "def download_data(table, **filters):\n",
    "    data = nd.get_table(table, **filters)\n",
    "    return data\n",
    "\n",
    "def save_to_csv(dataframe, file_path):\n",
    "    dataframe.to_csv(file_path, index=False)\n",
    "\n",
    "def compress_file(file_path):\n",
    "    with open(file_path, 'rb') as f_in:\n",
    "        with gzip.open(file_path + '.gz', 'wb') as f_out:\n",
    "            shutil.copyfileobj(f_in, f_out)\n",
    "    os.remove(file_path)\n",
    "\n",
    "def save_to_db(dataframe, table_name):\n",
    "    engine = create_engine(DATABASE_URL)\n",
    "    try:\n",
    "        dataframe.to_sql(table_name, engine, if_exists='replace', index=False)\n",
    "        print(f\"Data saved to {table_name} table successfully.\")\n",
    "    except SQLAlchemyError as e:\n",
    "        print(f\"Error: {str(e)}\")\n",
    "\n",
    "def retrieve_data(query):\n",
    "    engine = create_engine(DATABASE_URL)\n",
    "    with engine.connect() as connection:\n",
    "        result = pd.read_sql(query, connection)\n",
    "    return result"
   ]
  },
  {
   "cell_type": "code",
   "execution_count": 16,
   "metadata": {},
   "outputs": [
    {
     "name": "stderr",
     "output_type": "stream",
     "text": [
      "DEBUG:urllib3.connectionpool:Starting new HTTPS connection (1): data.nasdaq.com:443\n",
      "DEBUG:urllib3.connectionpool:https://data.nasdaq.com:443 \"GET /api/v3/datatables/QDL/FON?date=2019-10-08&contract_code=967654 HTTP/1.1\" 200 None\n"
     ]
    }
   ],
   "source": [
    "table = 'QDL/FON'\n",
    "filters = {\n",
    "    'date': '2019-10-08', \n",
    "    'contract_code': '967654'\n",
    "}\n",
    "data = download_data(table, **filters)"
   ]
  },
  {
   "cell_type": "code",
   "execution_count": 18,
   "metadata": {},
   "outputs": [
    {
     "data": {
      "text/html": [
       "<div>\n",
       "<style scoped>\n",
       "    .dataframe tbody tr th:only-of-type {\n",
       "        vertical-align: middle;\n",
       "    }\n",
       "\n",
       "    .dataframe tbody tr th {\n",
       "        vertical-align: top;\n",
       "    }\n",
       "\n",
       "    .dataframe thead th {\n",
       "        text-align: right;\n",
       "    }\n",
       "</style>\n",
       "<table border=\"1\" class=\"dataframe\">\n",
       "  <thead>\n",
       "    <tr style=\"text-align: right;\">\n",
       "      <th></th>\n",
       "      <th>contract_code</th>\n",
       "      <th>type</th>\n",
       "      <th>date</th>\n",
       "      <th>market_participation</th>\n",
       "      <th>producer_merchant_processor_user_longs</th>\n",
       "      <th>producer_merchant_processor_user_shorts</th>\n",
       "      <th>swap_dealer_longs</th>\n",
       "      <th>swap_dealer_shorts</th>\n",
       "      <th>swap_dealer_spreads</th>\n",
       "      <th>money_manager_longs</th>\n",
       "      <th>money_manager_shorts</th>\n",
       "      <th>money_manager_spreads</th>\n",
       "      <th>other_reportable_longs</th>\n",
       "      <th>other_reportable_shorts</th>\n",
       "      <th>other_reportable_spreads</th>\n",
       "      <th>total_reportable_longs</th>\n",
       "      <th>total_reportable_shorts</th>\n",
       "      <th>non_reportable_longs</th>\n",
       "      <th>non_reportable_shorts</th>\n",
       "    </tr>\n",
       "    <tr>\n",
       "      <th>None</th>\n",
       "      <th></th>\n",
       "      <th></th>\n",
       "      <th></th>\n",
       "      <th></th>\n",
       "      <th></th>\n",
       "      <th></th>\n",
       "      <th></th>\n",
       "      <th></th>\n",
       "      <th></th>\n",
       "      <th></th>\n",
       "      <th></th>\n",
       "      <th></th>\n",
       "      <th></th>\n",
       "      <th></th>\n",
       "      <th></th>\n",
       "      <th></th>\n",
       "      <th></th>\n",
       "      <th></th>\n",
       "      <th></th>\n",
       "    </tr>\n",
       "  </thead>\n",
       "  <tbody>\n",
       "    <tr>\n",
       "      <th>0</th>\n",
       "      <td>967654</td>\n",
       "      <td>F_OTR_OI</td>\n",
       "      <td>2019-10-08</td>\n",
       "      <td>100.0</td>\n",
       "      <td>0.0</td>\n",
       "      <td>0.0</td>\n",
       "      <td>0.0</td>\n",
       "      <td>0.0</td>\n",
       "      <td>0.0</td>\n",
       "      <td>0.0</td>\n",
       "      <td>0.0</td>\n",
       "      <td>0.0</td>\n",
       "      <td>0.0</td>\n",
       "      <td>0.0</td>\n",
       "      <td>0.0</td>\n",
       "      <td>0.0</td>\n",
       "      <td>0.0</td>\n",
       "      <td>0.0</td>\n",
       "      <td>0.0</td>\n",
       "    </tr>\n",
       "    <tr>\n",
       "      <th>1</th>\n",
       "      <td>967654</td>\n",
       "      <td>F_OTR_NT</td>\n",
       "      <td>2019-10-08</td>\n",
       "      <td>0.0</td>\n",
       "      <td>0.0</td>\n",
       "      <td>0.0</td>\n",
       "      <td>0.0</td>\n",
       "      <td>0.0</td>\n",
       "      <td>0.0</td>\n",
       "      <td>0.0</td>\n",
       "      <td>0.0</td>\n",
       "      <td>0.0</td>\n",
       "      <td>0.0</td>\n",
       "      <td>0.0</td>\n",
       "      <td>0.0</td>\n",
       "      <td>0.0</td>\n",
       "      <td>0.0</td>\n",
       "      <td>NaN</td>\n",
       "      <td>NaN</td>\n",
       "    </tr>\n",
       "    <tr>\n",
       "      <th>2</th>\n",
       "      <td>967654</td>\n",
       "      <td>F_OTR</td>\n",
       "      <td>2019-10-08</td>\n",
       "      <td>0.0</td>\n",
       "      <td>0.0</td>\n",
       "      <td>0.0</td>\n",
       "      <td>0.0</td>\n",
       "      <td>0.0</td>\n",
       "      <td>0.0</td>\n",
       "      <td>0.0</td>\n",
       "      <td>0.0</td>\n",
       "      <td>0.0</td>\n",
       "      <td>0.0</td>\n",
       "      <td>0.0</td>\n",
       "      <td>0.0</td>\n",
       "      <td>0.0</td>\n",
       "      <td>0.0</td>\n",
       "      <td>0.0</td>\n",
       "      <td>0.0</td>\n",
       "    </tr>\n",
       "    <tr>\n",
       "      <th>3</th>\n",
       "      <td>967654</td>\n",
       "      <td>FO_OTR_OI</td>\n",
       "      <td>2019-10-08</td>\n",
       "      <td>100.0</td>\n",
       "      <td>0.0</td>\n",
       "      <td>0.0</td>\n",
       "      <td>0.0</td>\n",
       "      <td>0.0</td>\n",
       "      <td>0.0</td>\n",
       "      <td>0.0</td>\n",
       "      <td>0.0</td>\n",
       "      <td>0.0</td>\n",
       "      <td>0.0</td>\n",
       "      <td>0.0</td>\n",
       "      <td>0.0</td>\n",
       "      <td>0.0</td>\n",
       "      <td>0.0</td>\n",
       "      <td>0.0</td>\n",
       "      <td>0.0</td>\n",
       "    </tr>\n",
       "    <tr>\n",
       "      <th>4</th>\n",
       "      <td>967654</td>\n",
       "      <td>FO_OTR_NT</td>\n",
       "      <td>2019-10-08</td>\n",
       "      <td>0.0</td>\n",
       "      <td>0.0</td>\n",
       "      <td>0.0</td>\n",
       "      <td>0.0</td>\n",
       "      <td>0.0</td>\n",
       "      <td>0.0</td>\n",
       "      <td>0.0</td>\n",
       "      <td>0.0</td>\n",
       "      <td>0.0</td>\n",
       "      <td>0.0</td>\n",
       "      <td>0.0</td>\n",
       "      <td>0.0</td>\n",
       "      <td>0.0</td>\n",
       "      <td>0.0</td>\n",
       "      <td>NaN</td>\n",
       "      <td>NaN</td>\n",
       "    </tr>\n",
       "  </tbody>\n",
       "</table>\n",
       "</div>"
      ],
      "text/plain": [
       "     contract_code       type       date  market_participation  \\\n",
       "None                                                             \n",
       "0           967654   F_OTR_OI 2019-10-08                 100.0   \n",
       "1           967654   F_OTR_NT 2019-10-08                   0.0   \n",
       "2           967654      F_OTR 2019-10-08                   0.0   \n",
       "3           967654  FO_OTR_OI 2019-10-08                 100.0   \n",
       "4           967654  FO_OTR_NT 2019-10-08                   0.0   \n",
       "\n",
       "      producer_merchant_processor_user_longs  \\\n",
       "None                                           \n",
       "0                                        0.0   \n",
       "1                                        0.0   \n",
       "2                                        0.0   \n",
       "3                                        0.0   \n",
       "4                                        0.0   \n",
       "\n",
       "      producer_merchant_processor_user_shorts  swap_dealer_longs  \\\n",
       "None                                                               \n",
       "0                                         0.0                0.0   \n",
       "1                                         0.0                0.0   \n",
       "2                                         0.0                0.0   \n",
       "3                                         0.0                0.0   \n",
       "4                                         0.0                0.0   \n",
       "\n",
       "      swap_dealer_shorts  swap_dealer_spreads  money_manager_longs  \\\n",
       "None                                                                 \n",
       "0                    0.0                  0.0                  0.0   \n",
       "1                    0.0                  0.0                  0.0   \n",
       "2                    0.0                  0.0                  0.0   \n",
       "3                    0.0                  0.0                  0.0   \n",
       "4                    0.0                  0.0                  0.0   \n",
       "\n",
       "      money_manager_shorts  money_manager_spreads  other_reportable_longs  \\\n",
       "None                                                                        \n",
       "0                      0.0                    0.0                     0.0   \n",
       "1                      0.0                    0.0                     0.0   \n",
       "2                      0.0                    0.0                     0.0   \n",
       "3                      0.0                    0.0                     0.0   \n",
       "4                      0.0                    0.0                     0.0   \n",
       "\n",
       "      other_reportable_shorts  other_reportable_spreads  \\\n",
       "None                                                      \n",
       "0                         0.0                       0.0   \n",
       "1                         0.0                       0.0   \n",
       "2                         0.0                       0.0   \n",
       "3                         0.0                       0.0   \n",
       "4                         0.0                       0.0   \n",
       "\n",
       "      total_reportable_longs  total_reportable_shorts  non_reportable_longs  \\\n",
       "None                                                                          \n",
       "0                        0.0                      0.0                   0.0   \n",
       "1                        0.0                      0.0                   NaN   \n",
       "2                        0.0                      0.0                   0.0   \n",
       "3                        0.0                      0.0                   0.0   \n",
       "4                        0.0                      0.0                   NaN   \n",
       "\n",
       "      non_reportable_shorts  \n",
       "None                         \n",
       "0                       0.0  \n",
       "1                       NaN  \n",
       "2                       0.0  \n",
       "3                       0.0  \n",
       "4                       NaN  "
      ]
     },
     "execution_count": 18,
     "metadata": {},
     "output_type": "execute_result"
    }
   ],
   "source": [
    "data.head()"
   ]
  },
  {
   "cell_type": "code",
   "execution_count": 25,
   "metadata": {},
   "outputs": [
    {
     "name": "stdout",
     "output_type": "stream",
     "text": [
      "Data saved to QDL_FON table successfully.\n"
     ]
    },
    {
     "name": "stderr",
     "output_type": "stream",
     "text": [
      "C:\\Users\\yoyo\\AppData\\Local\\Temp\\ipykernel_34624\\2460718170.py:17: UserWarning: The provided table name 'QDL_FON' is not found exactly as such in the database after writing the table, possibly due to case sensitivity issues. Consider using lower case table names.\n",
      "  dataframe.to_sql(table_name, engine, if_exists='replace', index=False)\n"
     ]
    }
   ],
   "source": [
    "save_to_db(data, 'QDL_FON')"
   ]
  },
  {
   "cell_type": "code",
   "execution_count": 26,
   "metadata": {},
   "outputs": [
    {
     "data": {
      "text/html": [
       "<div>\n",
       "<style scoped>\n",
       "    .dataframe tbody tr th:only-of-type {\n",
       "        vertical-align: middle;\n",
       "    }\n",
       "\n",
       "    .dataframe tbody tr th {\n",
       "        vertical-align: top;\n",
       "    }\n",
       "\n",
       "    .dataframe thead th {\n",
       "        text-align: right;\n",
       "    }\n",
       "</style>\n",
       "<table border=\"1\" class=\"dataframe\">\n",
       "  <thead>\n",
       "    <tr style=\"text-align: right;\">\n",
       "      <th></th>\n",
       "      <th>contract_code</th>\n",
       "      <th>type</th>\n",
       "      <th>date</th>\n",
       "      <th>market_participation</th>\n",
       "      <th>producer_merchant_processor_user_longs</th>\n",
       "      <th>producer_merchant_processor_user_shorts</th>\n",
       "      <th>swap_dealer_longs</th>\n",
       "      <th>swap_dealer_shorts</th>\n",
       "      <th>swap_dealer_spreads</th>\n",
       "      <th>money_manager_longs</th>\n",
       "      <th>money_manager_shorts</th>\n",
       "      <th>money_manager_spreads</th>\n",
       "      <th>other_reportable_longs</th>\n",
       "      <th>other_reportable_shorts</th>\n",
       "      <th>other_reportable_spreads</th>\n",
       "      <th>total_reportable_longs</th>\n",
       "      <th>total_reportable_shorts</th>\n",
       "      <th>non_reportable_longs</th>\n",
       "      <th>non_reportable_shorts</th>\n",
       "    </tr>\n",
       "  </thead>\n",
       "  <tbody>\n",
       "    <tr>\n",
       "      <th>0</th>\n",
       "      <td>967654</td>\n",
       "      <td>F_OTR_OI</td>\n",
       "      <td>2019-10-08</td>\n",
       "      <td>100.0</td>\n",
       "      <td>0.0</td>\n",
       "      <td>0.0</td>\n",
       "      <td>0.0</td>\n",
       "      <td>0.0</td>\n",
       "      <td>0.0</td>\n",
       "      <td>0.0</td>\n",
       "      <td>0.0</td>\n",
       "      <td>0.0</td>\n",
       "      <td>0.0</td>\n",
       "      <td>0.0</td>\n",
       "      <td>0.0</td>\n",
       "      <td>0.0</td>\n",
       "      <td>0.0</td>\n",
       "      <td>0.0</td>\n",
       "      <td>0.0</td>\n",
       "    </tr>\n",
       "    <tr>\n",
       "      <th>1</th>\n",
       "      <td>967654</td>\n",
       "      <td>F_OTR_NT</td>\n",
       "      <td>2019-10-08</td>\n",
       "      <td>0.0</td>\n",
       "      <td>0.0</td>\n",
       "      <td>0.0</td>\n",
       "      <td>0.0</td>\n",
       "      <td>0.0</td>\n",
       "      <td>0.0</td>\n",
       "      <td>0.0</td>\n",
       "      <td>0.0</td>\n",
       "      <td>0.0</td>\n",
       "      <td>0.0</td>\n",
       "      <td>0.0</td>\n",
       "      <td>0.0</td>\n",
       "      <td>0.0</td>\n",
       "      <td>0.0</td>\n",
       "      <td>NaN</td>\n",
       "      <td>NaN</td>\n",
       "    </tr>\n",
       "    <tr>\n",
       "      <th>2</th>\n",
       "      <td>967654</td>\n",
       "      <td>F_OTR</td>\n",
       "      <td>2019-10-08</td>\n",
       "      <td>0.0</td>\n",
       "      <td>0.0</td>\n",
       "      <td>0.0</td>\n",
       "      <td>0.0</td>\n",
       "      <td>0.0</td>\n",
       "      <td>0.0</td>\n",
       "      <td>0.0</td>\n",
       "      <td>0.0</td>\n",
       "      <td>0.0</td>\n",
       "      <td>0.0</td>\n",
       "      <td>0.0</td>\n",
       "      <td>0.0</td>\n",
       "      <td>0.0</td>\n",
       "      <td>0.0</td>\n",
       "      <td>0.0</td>\n",
       "      <td>0.0</td>\n",
       "    </tr>\n",
       "    <tr>\n",
       "      <th>3</th>\n",
       "      <td>967654</td>\n",
       "      <td>FO_OTR_OI</td>\n",
       "      <td>2019-10-08</td>\n",
       "      <td>100.0</td>\n",
       "      <td>0.0</td>\n",
       "      <td>0.0</td>\n",
       "      <td>0.0</td>\n",
       "      <td>0.0</td>\n",
       "      <td>0.0</td>\n",
       "      <td>0.0</td>\n",
       "      <td>0.0</td>\n",
       "      <td>0.0</td>\n",
       "      <td>0.0</td>\n",
       "      <td>0.0</td>\n",
       "      <td>0.0</td>\n",
       "      <td>0.0</td>\n",
       "      <td>0.0</td>\n",
       "      <td>0.0</td>\n",
       "      <td>0.0</td>\n",
       "    </tr>\n",
       "    <tr>\n",
       "      <th>4</th>\n",
       "      <td>967654</td>\n",
       "      <td>FO_OTR_NT</td>\n",
       "      <td>2019-10-08</td>\n",
       "      <td>0.0</td>\n",
       "      <td>0.0</td>\n",
       "      <td>0.0</td>\n",
       "      <td>0.0</td>\n",
       "      <td>0.0</td>\n",
       "      <td>0.0</td>\n",
       "      <td>0.0</td>\n",
       "      <td>0.0</td>\n",
       "      <td>0.0</td>\n",
       "      <td>0.0</td>\n",
       "      <td>0.0</td>\n",
       "      <td>0.0</td>\n",
       "      <td>0.0</td>\n",
       "      <td>0.0</td>\n",
       "      <td>NaN</td>\n",
       "      <td>NaN</td>\n",
       "    </tr>\n",
       "  </tbody>\n",
       "</table>\n",
       "</div>"
      ],
      "text/plain": [
       "  contract_code       type       date  market_participation  \\\n",
       "0        967654   F_OTR_OI 2019-10-08                 100.0   \n",
       "1        967654   F_OTR_NT 2019-10-08                   0.0   \n",
       "2        967654      F_OTR 2019-10-08                   0.0   \n",
       "3        967654  FO_OTR_OI 2019-10-08                 100.0   \n",
       "4        967654  FO_OTR_NT 2019-10-08                   0.0   \n",
       "\n",
       "   producer_merchant_processor_user_longs  \\\n",
       "0                                     0.0   \n",
       "1                                     0.0   \n",
       "2                                     0.0   \n",
       "3                                     0.0   \n",
       "4                                     0.0   \n",
       "\n",
       "   producer_merchant_processor_user_shorts  swap_dealer_longs  \\\n",
       "0                                      0.0                0.0   \n",
       "1                                      0.0                0.0   \n",
       "2                                      0.0                0.0   \n",
       "3                                      0.0                0.0   \n",
       "4                                      0.0                0.0   \n",
       "\n",
       "   swap_dealer_shorts  swap_dealer_spreads  money_manager_longs  \\\n",
       "0                 0.0                  0.0                  0.0   \n",
       "1                 0.0                  0.0                  0.0   \n",
       "2                 0.0                  0.0                  0.0   \n",
       "3                 0.0                  0.0                  0.0   \n",
       "4                 0.0                  0.0                  0.0   \n",
       "\n",
       "   money_manager_shorts  money_manager_spreads  other_reportable_longs  \\\n",
       "0                   0.0                    0.0                     0.0   \n",
       "1                   0.0                    0.0                     0.0   \n",
       "2                   0.0                    0.0                     0.0   \n",
       "3                   0.0                    0.0                     0.0   \n",
       "4                   0.0                    0.0                     0.0   \n",
       "\n",
       "   other_reportable_shorts  other_reportable_spreads  total_reportable_longs  \\\n",
       "0                      0.0                       0.0                     0.0   \n",
       "1                      0.0                       0.0                     0.0   \n",
       "2                      0.0                       0.0                     0.0   \n",
       "3                      0.0                       0.0                     0.0   \n",
       "4                      0.0                       0.0                     0.0   \n",
       "\n",
       "   total_reportable_shorts  non_reportable_longs  non_reportable_shorts  \n",
       "0                      0.0                   0.0                    0.0  \n",
       "1                      0.0                   NaN                    NaN  \n",
       "2                      0.0                   0.0                    0.0  \n",
       "3                      0.0                   0.0                    0.0  \n",
       "4                      0.0                   NaN                    NaN  "
      ]
     },
     "execution_count": 26,
     "metadata": {},
     "output_type": "execute_result"
    }
   ],
   "source": [
    "query = \"SELECT * FROM QDL_FON WHERE date='2019-10-08'\"\n",
    "retrieved_data = retrieve_data(query)\n",
    "retrieved_data.head()"
   ]
  },
  {
   "cell_type": "code",
   "execution_count": null,
   "metadata": {},
   "outputs": [],
   "source": []
  },
  {
   "cell_type": "code",
   "execution_count": null,
   "metadata": {},
   "outputs": [],
   "source": [
    "# TEST"
   ]
  },
  {
   "cell_type": "code",
   "execution_count": 27,
   "metadata": {},
   "outputs": [
    {
     "name": "stderr",
     "output_type": "stream",
     "text": [
      "DEBUG:urllib3.connectionpool:Starting new HTTPS connection (1): data.nasdaq.com:443\n",
      "DEBUG:urllib3.connectionpool:https://data.nasdaq.com:443 \"GET /api/v3/datatables/QDL/FON?date=2019-10-08&contract_code=967654 HTTP/1.1\" 200 None\n"
     ]
    }
   ],
   "source": [
    "def test_download_data():\n",
    "    table = 'QDL/FON'\n",
    "    filters = {'date': '2019-10-08', 'contract_code': '967654'}\n",
    "    data = download_data(table, **filters)\n",
    "    assert not data.empty, \"Downloaded data is empty\"\n",
    "\n",
    "test_download_data()"
   ]
  },
  {
   "cell_type": "code",
   "execution_count": 28,
   "metadata": {},
   "outputs": [
    {
     "name": "stderr",
     "output_type": "stream",
     "text": [
      "DEBUG:urllib3.connectionpool:Starting new HTTPS connection (1): data.nasdaq.com:443\n",
      "DEBUG:urllib3.connectionpool:https://data.nasdaq.com:443 \"GET /api/v3/datatables/QDL/FON?date=2019-10-08&contract_code=967654 HTTP/1.1\" 200 None\n"
     ]
    },
    {
     "name": "stdout",
     "output_type": "stream",
     "text": [
      "Data saved to test_table table successfully.\n"
     ]
    }
   ],
   "source": [
    "def test_save_to_db():\n",
    "    table = 'QDL/FON'\n",
    "    filters = {'date': '2019-10-08', 'contract_code': '967654'}\n",
    "    data = download_data(table, **filters)\n",
    "    save_to_db(data, 'test_table')\n",
    "    # Further assertions to verify the data saved to the database\n",
    "\n",
    "test_save_to_db()"
   ]
  },
  {
   "cell_type": "code",
   "execution_count": 29,
   "metadata": {},
   "outputs": [],
   "source": [
    "def test_retrieve_data():\n",
    "    query = \"SELECT * FROM test_table WHERE date='2019-10-08'\"\n",
    "    data = retrieve_data(query)\n",
    "    assert not data.empty, \"Retrieved data is empty\"\n",
    "\n",
    "test_retrieve_data()"
   ]
  },
  {
   "cell_type": "code",
   "execution_count": null,
   "metadata": {},
   "outputs": [],
   "source": []
  },
  {
   "cell_type": "code",
   "execution_count": null,
   "metadata": {},
   "outputs": [],
   "source": []
  },
  {
   "cell_type": "code",
   "execution_count": null,
   "metadata": {},
   "outputs": [],
   "source": []
  },
  {
   "cell_type": "code",
   "execution_count": null,
   "metadata": {},
   "outputs": [],
   "source": []
  },
  {
   "cell_type": "code",
   "execution_count": null,
   "metadata": {},
   "outputs": [],
   "source": []
  },
  {
   "cell_type": "code",
   "execution_count": null,
   "metadata": {},
   "outputs": [],
   "source": []
  },
  {
   "cell_type": "code",
   "execution_count": null,
   "metadata": {},
   "outputs": [],
   "source": []
  },
  {
   "cell_type": "code",
   "execution_count": null,
   "metadata": {},
   "outputs": [],
   "source": []
  },
  {
   "cell_type": "code",
   "execution_count": null,
   "metadata": {},
   "outputs": [],
   "source": []
  },
  {
   "cell_type": "code",
   "execution_count": null,
   "metadata": {},
   "outputs": [],
   "source": []
  },
  {
   "cell_type": "code",
   "execution_count": null,
   "metadata": {},
   "outputs": [],
   "source": []
  },
  {
   "cell_type": "code",
   "execution_count": null,
   "metadata": {},
   "outputs": [],
   "source": []
  },
  {
   "cell_type": "code",
   "execution_count": null,
   "metadata": {},
   "outputs": [],
   "source": []
  },
  {
   "cell_type": "code",
   "execution_count": null,
   "metadata": {},
   "outputs": [],
   "source": []
  },
  {
   "cell_type": "code",
   "execution_count": 27,
   "metadata": {
    "collapsed": false,
    "jupyter": {
     "outputs_hidden": false
    },
    "pycharm": {
     "name": "#%%\n"
    }
   },
   "outputs": [],
   "source": [
    "# nd.Database('WIKI').bulk_download_to_file('/data')\n"
   ]
  },
  {
   "cell_type": "code",
   "execution_count": 26,
   "metadata": {},
   "outputs": [
    {
     "name": "stderr",
     "output_type": "stream",
     "text": [
      "DEBUG:urllib3.connectionpool:Starting new HTTPS connection (1): data.nasdaq.com:443\n",
      "DEBUG:urllib3.connectionpool:https://data.nasdaq.com:443 \"GET /api/v3/databases/WIKI HTTP/1.1\" 200 None\n"
     ]
    },
    {
     "data": {
      "text/plain": [
       "'WIKI'"
      ]
     },
     "execution_count": 26,
     "metadata": {},
     "output_type": "execute_result"
    }
   ],
   "source": [
    "db = nd.Database('WIKI')\n",
    "db.database_code"
   ]
  },
  {
   "cell_type": "code",
   "execution_count": 21,
   "metadata": {},
   "outputs": [],
   "source": [
    "dt = nd.Datatable('ZACKS/FC')"
   ]
  },
  {
   "cell_type": "code",
   "execution_count": 24,
   "metadata": {},
   "outputs": [
    {
     "name": "stderr",
     "output_type": "stream",
     "text": [
      "DEBUG:urllib3.connectionpool:Starting new HTTPS connection (1): data.nasdaq.com:443\n",
      "DEBUG:urllib3.connectionpool:https://data.nasdaq.com:443 \"GET /api/v3/datatables/ZACKS/FC/metadata HTTP/1.1\" 200 None\n"
     ]
    },
    {
     "data": {
      "text/plain": [
       "['vendor_code',\n",
       " 'datatable_code',\n",
       " 'name',\n",
       " 'description',\n",
       " 'columns',\n",
       " 'filters',\n",
       " 'primary_key',\n",
       " 'premium',\n",
       " 'status',\n",
       " 'data_version']"
      ]
     },
     "execution_count": 24,
     "metadata": {},
     "output_type": "execute_result"
    }
   ],
   "source": [
    "dt.data_fields()"
   ]
  },
  {
   "cell_type": "code",
   "execution_count": 30,
   "metadata": {},
   "outputs": [
    {
     "name": "stderr",
     "output_type": "stream",
     "text": [
      "DEBUG:urllib3.connectionpool:Starting new HTTPS connection (1): data.nasdaq.com:443\n",
      "DEBUG:urllib3.connectionpool:https://data.nasdaq.com:443 \"GET /api/v3/databases/WIKI HTTP/1.1\" 200 None\n"
     ]
    },
    {
     "data": {
      "text/plain": [
       "['id',\n",
       " 'name',\n",
       " 'database_code',\n",
       " 'description',\n",
       " 'datasets_count',\n",
       " 'downloads',\n",
       " 'premium',\n",
       " 'image',\n",
       " 'favorite',\n",
       " 'url_name',\n",
       " 'exclusive']"
      ]
     },
     "execution_count": 30,
     "metadata": {},
     "output_type": "execute_result"
    }
   ],
   "source": [
    "database = nd.Database('WIKI')\n",
    "database.data_fields()\n"
   ]
  },
  {
   "cell_type": "code",
   "execution_count": 31,
   "metadata": {},
   "outputs": [
    {
     "name": "stderr",
     "output_type": "stream",
     "text": [
      "DEBUG:urllib3.connectionpool:Starting new HTTPS connection (1): data.nasdaq.com:443\n",
      "DEBUG:urllib3.connectionpool:https://data.nasdaq.com:443 \"GET /api/v3/databases HTTP/1.1\" 410 None\n"
     ]
    },
    {
     "ename": "DataLinkError",
     "evalue": "(Status 410) Something went wrong. Please try again. If you continue to have problems, please contact us at connect@data.nasdaq.com.",
     "output_type": "error",
     "traceback": [
      "\u001b[1;31m---------------------------------------------------------------------------\u001b[0m",
      "\u001b[1;31mJSONDecodeError\u001b[0m                           Traceback (most recent call last)",
      "File \u001b[1;32m~\\PycharmProjects\\pythonProject\\venv\\lib\\site-packages\\requests\\models.py:974\u001b[0m, in \u001b[0;36mResponse.json\u001b[1;34m(self, **kwargs)\u001b[0m\n\u001b[0;32m    973\u001b[0m \u001b[38;5;28;01mtry\u001b[39;00m:\n\u001b[1;32m--> 974\u001b[0m     \u001b[38;5;28;01mreturn\u001b[39;00m complexjson\u001b[38;5;241m.\u001b[39mloads(\u001b[38;5;28mself\u001b[39m\u001b[38;5;241m.\u001b[39mtext, \u001b[38;5;241m*\u001b[39m\u001b[38;5;241m*\u001b[39mkwargs)\n\u001b[0;32m    975\u001b[0m \u001b[38;5;28;01mexcept\u001b[39;00m JSONDecodeError \u001b[38;5;28;01mas\u001b[39;00m e:\n\u001b[0;32m    976\u001b[0m     \u001b[38;5;66;03m# Catch JSON-related errors and raise as requests.JSONDecodeError\u001b[39;00m\n\u001b[0;32m    977\u001b[0m     \u001b[38;5;66;03m# This aliases json.JSONDecodeError and simplejson.JSONDecodeError\u001b[39;00m\n",
      "File \u001b[1;32mC:\\Python310\\lib\\json\\__init__.py:346\u001b[0m, in \u001b[0;36mloads\u001b[1;34m(s, cls, object_hook, parse_float, parse_int, parse_constant, object_pairs_hook, **kw)\u001b[0m\n\u001b[0;32m    343\u001b[0m \u001b[38;5;28;01mif\u001b[39;00m (\u001b[38;5;28mcls\u001b[39m \u001b[38;5;129;01mis\u001b[39;00m \u001b[38;5;28;01mNone\u001b[39;00m \u001b[38;5;129;01mand\u001b[39;00m object_hook \u001b[38;5;129;01mis\u001b[39;00m \u001b[38;5;28;01mNone\u001b[39;00m \u001b[38;5;129;01mand\u001b[39;00m\n\u001b[0;32m    344\u001b[0m         parse_int \u001b[38;5;129;01mis\u001b[39;00m \u001b[38;5;28;01mNone\u001b[39;00m \u001b[38;5;129;01mand\u001b[39;00m parse_float \u001b[38;5;129;01mis\u001b[39;00m \u001b[38;5;28;01mNone\u001b[39;00m \u001b[38;5;129;01mand\u001b[39;00m\n\u001b[0;32m    345\u001b[0m         parse_constant \u001b[38;5;129;01mis\u001b[39;00m \u001b[38;5;28;01mNone\u001b[39;00m \u001b[38;5;129;01mand\u001b[39;00m object_pairs_hook \u001b[38;5;129;01mis\u001b[39;00m \u001b[38;5;28;01mNone\u001b[39;00m \u001b[38;5;129;01mand\u001b[39;00m \u001b[38;5;129;01mnot\u001b[39;00m kw):\n\u001b[1;32m--> 346\u001b[0m     \u001b[38;5;28;01mreturn\u001b[39;00m \u001b[43m_default_decoder\u001b[49m\u001b[38;5;241;43m.\u001b[39;49m\u001b[43mdecode\u001b[49m\u001b[43m(\u001b[49m\u001b[43ms\u001b[49m\u001b[43m)\u001b[49m\n\u001b[0;32m    347\u001b[0m \u001b[38;5;28;01mif\u001b[39;00m \u001b[38;5;28mcls\u001b[39m \u001b[38;5;129;01mis\u001b[39;00m \u001b[38;5;28;01mNone\u001b[39;00m:\n",
      "File \u001b[1;32mC:\\Python310\\lib\\json\\decoder.py:337\u001b[0m, in \u001b[0;36mJSONDecoder.decode\u001b[1;34m(self, s, _w)\u001b[0m\n\u001b[0;32m    333\u001b[0m \u001b[38;5;250m\u001b[39m\u001b[38;5;124;03m\"\"\"Return the Python representation of ``s`` (a ``str`` instance\u001b[39;00m\n\u001b[0;32m    334\u001b[0m \u001b[38;5;124;03mcontaining a JSON document).\u001b[39;00m\n\u001b[0;32m    335\u001b[0m \n\u001b[0;32m    336\u001b[0m \u001b[38;5;124;03m\"\"\"\u001b[39;00m\n\u001b[1;32m--> 337\u001b[0m obj, end \u001b[38;5;241m=\u001b[39m \u001b[38;5;28;43mself\u001b[39;49m\u001b[38;5;241;43m.\u001b[39;49m\u001b[43mraw_decode\u001b[49m\u001b[43m(\u001b[49m\u001b[43ms\u001b[49m\u001b[43m,\u001b[49m\u001b[43m \u001b[49m\u001b[43midx\u001b[49m\u001b[38;5;241;43m=\u001b[39;49m\u001b[43m_w\u001b[49m\u001b[43m(\u001b[49m\u001b[43ms\u001b[49m\u001b[43m,\u001b[49m\u001b[43m \u001b[49m\u001b[38;5;241;43m0\u001b[39;49m\u001b[43m)\u001b[49m\u001b[38;5;241;43m.\u001b[39;49m\u001b[43mend\u001b[49m\u001b[43m(\u001b[49m\u001b[43m)\u001b[49m\u001b[43m)\u001b[49m\n\u001b[0;32m    338\u001b[0m end \u001b[38;5;241m=\u001b[39m _w(s, end)\u001b[38;5;241m.\u001b[39mend()\n",
      "File \u001b[1;32mC:\\Python310\\lib\\json\\decoder.py:355\u001b[0m, in \u001b[0;36mJSONDecoder.raw_decode\u001b[1;34m(self, s, idx)\u001b[0m\n\u001b[0;32m    354\u001b[0m \u001b[38;5;28;01mexcept\u001b[39;00m \u001b[38;5;167;01mStopIteration\u001b[39;00m \u001b[38;5;28;01mas\u001b[39;00m err:\n\u001b[1;32m--> 355\u001b[0m     \u001b[38;5;28;01mraise\u001b[39;00m JSONDecodeError(\u001b[38;5;124m\"\u001b[39m\u001b[38;5;124mExpecting value\u001b[39m\u001b[38;5;124m\"\u001b[39m, s, err\u001b[38;5;241m.\u001b[39mvalue) \u001b[38;5;28;01mfrom\u001b[39;00m \u001b[38;5;28;01mNone\u001b[39;00m\n\u001b[0;32m    356\u001b[0m \u001b[38;5;28;01mreturn\u001b[39;00m obj, end\n",
      "\u001b[1;31mJSONDecodeError\u001b[0m: Expecting value: line 1 column 1 (char 0)",
      "\nDuring handling of the above exception, another exception occurred:\n",
      "\u001b[1;31mJSONDecodeError\u001b[0m                           Traceback (most recent call last)",
      "File \u001b[1;32m~\\PycharmProjects\\pythonProject\\venv\\lib\\site-packages\\nasdaqdatalink\\connection.py:90\u001b[0m, in \u001b[0;36mConnection.parse\u001b[1;34m(cls, response)\u001b[0m\n\u001b[0;32m     89\u001b[0m \u001b[38;5;28;01mtry\u001b[39;00m:\n\u001b[1;32m---> 90\u001b[0m     \u001b[38;5;28;01mreturn\u001b[39;00m \u001b[43mresponse\u001b[49m\u001b[38;5;241;43m.\u001b[39;49m\u001b[43mjson\u001b[49m\u001b[43m(\u001b[49m\u001b[43m)\u001b[49m\n\u001b[0;32m     91\u001b[0m \u001b[38;5;28;01mexcept\u001b[39;00m \u001b[38;5;167;01mValueError\u001b[39;00m:\n",
      "File \u001b[1;32m~\\PycharmProjects\\pythonProject\\venv\\lib\\site-packages\\requests\\models.py:978\u001b[0m, in \u001b[0;36mResponse.json\u001b[1;34m(self, **kwargs)\u001b[0m\n\u001b[0;32m    975\u001b[0m \u001b[38;5;28;01mexcept\u001b[39;00m JSONDecodeError \u001b[38;5;28;01mas\u001b[39;00m e:\n\u001b[0;32m    976\u001b[0m     \u001b[38;5;66;03m# Catch JSON-related errors and raise as requests.JSONDecodeError\u001b[39;00m\n\u001b[0;32m    977\u001b[0m     \u001b[38;5;66;03m# This aliases json.JSONDecodeError and simplejson.JSONDecodeError\u001b[39;00m\n\u001b[1;32m--> 978\u001b[0m     \u001b[38;5;28;01mraise\u001b[39;00m RequestsJSONDecodeError(e\u001b[38;5;241m.\u001b[39mmsg, e\u001b[38;5;241m.\u001b[39mdoc, e\u001b[38;5;241m.\u001b[39mpos)\n",
      "\u001b[1;31mJSONDecodeError\u001b[0m: Expecting value: line 1 column 1 (char 0)",
      "\nDuring handling of the above exception, another exception occurred:\n",
      "\u001b[1;31mDataLinkError\u001b[0m                             Traceback (most recent call last)",
      "Cell \u001b[1;32mIn[31], line 1\u001b[0m\n\u001b[1;32m----> 1\u001b[0m databases \u001b[38;5;241m=\u001b[39m \u001b[43mnd\u001b[49m\u001b[38;5;241;43m.\u001b[39;49m\u001b[43mDatabase\u001b[49m\u001b[38;5;241;43m.\u001b[39;49m\u001b[43mall\u001b[49m\u001b[43m(\u001b[49m\u001b[43m)\u001b[49m\n\u001b[0;32m      2\u001b[0m databases\u001b[38;5;241m.\u001b[39mvalues\n",
      "File \u001b[1;32m~\\PycharmProjects\\pythonProject\\venv\\lib\\site-packages\\nasdaqdatalink\\operations\\list.py:15\u001b[0m, in \u001b[0;36mListOperation.all\u001b[1;34m(cls, **options)\u001b[0m\n\u001b[0;32m     13\u001b[0m     options[\u001b[38;5;124m'\u001b[39m\u001b[38;5;124mparams\u001b[39m\u001b[38;5;124m'\u001b[39m] \u001b[38;5;241m=\u001b[39m {}\n\u001b[0;32m     14\u001b[0m path \u001b[38;5;241m=\u001b[39m Util\u001b[38;5;241m.\u001b[39mconstructed_path(\u001b[38;5;28mcls\u001b[39m\u001b[38;5;241m.\u001b[39mlist_path(), options[\u001b[38;5;124m'\u001b[39m\u001b[38;5;124mparams\u001b[39m\u001b[38;5;124m'\u001b[39m])\n\u001b[1;32m---> 15\u001b[0m r \u001b[38;5;241m=\u001b[39m Connection\u001b[38;5;241m.\u001b[39mrequest(\u001b[38;5;124m'\u001b[39m\u001b[38;5;124mget\u001b[39m\u001b[38;5;124m'\u001b[39m, path, \u001b[38;5;241m*\u001b[39m\u001b[38;5;241m*\u001b[39moptions)\n\u001b[0;32m     16\u001b[0m response_data \u001b[38;5;241m=\u001b[39m r\u001b[38;5;241m.\u001b[39mjson()\n\u001b[0;32m     17\u001b[0m Util\u001b[38;5;241m.\u001b[39mconvert_to_dates(response_data)\n",
      "File \u001b[1;32m~\\PycharmProjects\\pythonProject\\venv\\lib\\site-packages\\nasdaqdatalink\\connection.py:40\u001b[0m, in \u001b[0;36mConnection.request\u001b[1;34m(cls, http_verb, url, **options)\u001b[0m\n\u001b[0;32m     36\u001b[0m options[\u001b[38;5;124m'\u001b[39m\u001b[38;5;124mheaders\u001b[39m\u001b[38;5;124m'\u001b[39m] \u001b[38;5;241m=\u001b[39m headers\n\u001b[0;32m     38\u001b[0m abs_url \u001b[38;5;241m=\u001b[39m \u001b[38;5;124m'\u001b[39m\u001b[38;5;132;01m%s\u001b[39;00m\u001b[38;5;124m/\u001b[39m\u001b[38;5;132;01m%s\u001b[39;00m\u001b[38;5;124m'\u001b[39m \u001b[38;5;241m%\u001b[39m (ApiConfig\u001b[38;5;241m.\u001b[39mapi_base, url)\n\u001b[1;32m---> 40\u001b[0m \u001b[38;5;28;01mreturn\u001b[39;00m \u001b[38;5;28mcls\u001b[39m\u001b[38;5;241m.\u001b[39mexecute_request(http_verb, abs_url, \u001b[38;5;241m*\u001b[39m\u001b[38;5;241m*\u001b[39moptions)\n",
      "File \u001b[1;32m~\\PycharmProjects\\pythonProject\\venv\\lib\\site-packages\\nasdaqdatalink\\connection.py:52\u001b[0m, in \u001b[0;36mConnection.execute_request\u001b[1;34m(cls, http_verb, url, **options)\u001b[0m\n\u001b[0;32m     47\u001b[0m response \u001b[38;5;241m=\u001b[39m session\u001b[38;5;241m.\u001b[39mrequest(method\u001b[38;5;241m=\u001b[39mhttp_verb,\n\u001b[0;32m     48\u001b[0m                            url\u001b[38;5;241m=\u001b[39murl,\n\u001b[0;32m     49\u001b[0m                            verify\u001b[38;5;241m=\u001b[39mApiConfig\u001b[38;5;241m.\u001b[39mverify_ssl,\n\u001b[0;32m     50\u001b[0m                            \u001b[38;5;241m*\u001b[39m\u001b[38;5;241m*\u001b[39moptions)\n\u001b[0;32m     51\u001b[0m \u001b[38;5;28;01mif\u001b[39;00m response\u001b[38;5;241m.\u001b[39mstatus_code \u001b[38;5;241m<\u001b[39m \u001b[38;5;241m200\u001b[39m \u001b[38;5;129;01mor\u001b[39;00m response\u001b[38;5;241m.\u001b[39mstatus_code \u001b[38;5;241m>\u001b[39m\u001b[38;5;241m=\u001b[39m \u001b[38;5;241m300\u001b[39m:\n\u001b[1;32m---> 52\u001b[0m     \u001b[38;5;28;43mcls\u001b[39;49m\u001b[38;5;241;43m.\u001b[39;49m\u001b[43mhandle_api_error\u001b[49m\u001b[43m(\u001b[49m\u001b[43mresponse\u001b[49m\u001b[43m)\u001b[49m\n\u001b[0;32m     53\u001b[0m \u001b[38;5;28;01melse\u001b[39;00m:\n\u001b[0;32m     54\u001b[0m     \u001b[38;5;28;01mreturn\u001b[39;00m response\n",
      "File \u001b[1;32m~\\PycharmProjects\\pythonProject\\venv\\lib\\site-packages\\nasdaqdatalink\\connection.py:96\u001b[0m, in \u001b[0;36mConnection.handle_api_error\u001b[1;34m(cls, resp)\u001b[0m\n\u001b[0;32m     94\u001b[0m \u001b[38;5;129m@classmethod\u001b[39m\n\u001b[0;32m     95\u001b[0m \u001b[38;5;28;01mdef\u001b[39;00m \u001b[38;5;21mhandle_api_error\u001b[39m(\u001b[38;5;28mcls\u001b[39m, resp):\n\u001b[1;32m---> 96\u001b[0m     error_body \u001b[38;5;241m=\u001b[39m \u001b[38;5;28;43mcls\u001b[39;49m\u001b[38;5;241;43m.\u001b[39;49m\u001b[43mparse\u001b[49m\u001b[43m(\u001b[49m\u001b[43mresp\u001b[49m\u001b[43m)\u001b[49m\n\u001b[0;32m     98\u001b[0m     \u001b[38;5;66;03m# if our app does not form a proper data_link_error response\u001b[39;00m\n\u001b[0;32m     99\u001b[0m     \u001b[38;5;66;03m# throw generic error\u001b[39;00m\n\u001b[0;32m    100\u001b[0m     \u001b[38;5;28;01mif\u001b[39;00m \u001b[38;5;124m'\u001b[39m\u001b[38;5;124mquandl_error\u001b[39m\u001b[38;5;124m'\u001b[39m \u001b[38;5;129;01mnot\u001b[39;00m \u001b[38;5;129;01min\u001b[39;00m error_body:\n",
      "File \u001b[1;32m~\\PycharmProjects\\pythonProject\\venv\\lib\\site-packages\\nasdaqdatalink\\connection.py:92\u001b[0m, in \u001b[0;36mConnection.parse\u001b[1;34m(cls, response)\u001b[0m\n\u001b[0;32m     90\u001b[0m     \u001b[38;5;28;01mreturn\u001b[39;00m response\u001b[38;5;241m.\u001b[39mjson()\n\u001b[0;32m     91\u001b[0m \u001b[38;5;28;01mexcept\u001b[39;00m \u001b[38;5;167;01mValueError\u001b[39;00m:\n\u001b[1;32m---> 92\u001b[0m     \u001b[38;5;28;01mraise\u001b[39;00m DataLinkError(http_status\u001b[38;5;241m=\u001b[39mresponse\u001b[38;5;241m.\u001b[39mstatus_code, http_body\u001b[38;5;241m=\u001b[39mresponse\u001b[38;5;241m.\u001b[39mtext)\n",
      "\u001b[1;31mDataLinkError\u001b[0m: (Status 410) Something went wrong. Please try again. If you continue to have problems, please contact us at connect@data.nasdaq.com."
     ]
    }
   ],
   "source": [
    "databases = nd.Datatable('RATE')\n",
    "databases.values"
   ]
  },
  {
   "cell_type": "code",
   "execution_count": null,
   "metadata": {},
   "outputs": [],
   "source": []
  }
 ],
 "metadata": {
  "kernelspec": {
   "display_name": "Python 3 (ipykernel)",
   "language": "python",
   "name": "python3"
  },
  "language_info": {
   "codemirror_mode": {
    "name": "ipython",
    "version": 3
   },
   "file_extension": ".py",
   "mimetype": "text/x-python",
   "name": "python",
   "nbconvert_exporter": "python",
   "pygments_lexer": "ipython3",
   "version": "3.10.6"
  }
 },
 "nbformat": 4,
 "nbformat_minor": 4
}
