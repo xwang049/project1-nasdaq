{
 "cells": [
  {
   "cell_type": "code",
   "execution_count": 1,
   "metadata": {},
   "outputs": [],
   "source": [
    "import undetected_chromedriver as uc\n",
    "from bs4 import BeautifulSoup\n",
    "import concurrent.futures\n",
    "import time\n",
    "import csv\n",
    "import pandas as pd\n",
    "import lxml"
   ]
  },
  {
   "cell_type": "markdown",
   "metadata": {},
   "source": [
    "Fetch page urls"
   ]
  },
  {
   "cell_type": "code",
   "execution_count": 2,
   "metadata": {},
   "outputs": [],
   "source": [
    "def fetch_page_urls(page, driver):\n",
    "    url = f'https://data.nasdaq.com/search?page={page + 1}' # urls of all core financial data\n",
    "    #url = f'https://data.nasdaq.com/search?filters=%5B%22Prices%20%26%20Volumes%22%5D&page={page + 1}' # urls of Price&Volumns data \n",
    "    #url = f'https://data.nasdaq.com/search?filters=%5B%22Fundamentals%22%5D&page={page + 1}' #urls of Fundamental data\n",
    "    #url = f'https://data.nasdaq.com/search?filters=%5B%22National%20Statistics%22%5D&page={page + 1}' #urls of National Statistics\n",
    "    driver.get(url)\n",
    "    time.sleep(10)  # wait until the webpage is completely loaded. Adjust the sleep time as needed\n",
    "    page_source = driver.page_source\n",
    "    soup = BeautifulSoup(page_source, \"html.parser\") # get data of webpage\n",
    "    #driver.quit()\n",
    "    product_cards = soup.findAll(\"a\", attrs={\"class\": \"product-card__overview-content\"}) # search for needed urls of datatables\n",
    "    return [card.get('href') for card in product_cards]\n",
    "\n",
    "def scrape_and_save_urls():\n",
    "    max_page = 15 # adjust the maximum number of pages according to different web pages\n",
    "    driver = uc.Chrome(headless=True, use_subprocess=True)\n",
    "    with concurrent.futures.ThreadPoolExecutor(max_workers=1) as executor: \n",
    "        futures = [executor.submit(fetch_page_urls, page, driver) for page in range(max_page)]\n",
    "        results = [future.result() for future in concurrent.futures.as_completed(futures)]\n",
    "    driver.quit()\n",
    "    url_list = [href for sublist in results for href in sublist]\n",
    "\n",
    "    filename = \"url_list_Fundamentals.csv\"\n",
    "    with open(filename, mode='w', newline='') as file:\n",
    "        writer = csv.writer(file)\n",
    "        for item in url_list:\n",
    "            item1 = f'https://data.nasdaq.com' + item\n",
    "            writer.writerow([item1])\n",
    "    \n",
    "    print(f\"Data has been written to {filename}\")"
   ]
  },
  {
   "cell_type": "code",
   "execution_count": null,
   "metadata": {},
   "outputs": [],
   "source": [
    "scrape_and_save_urls()"
   ]
  },
  {
   "cell_type": "markdown",
   "metadata": {},
   "source": [
    "Search datatable code in each webpage"
   ]
  },
  {
   "cell_type": "code",
   "execution_count": 3,
   "metadata": {},
   "outputs": [],
   "source": [
    "with open('url_list.csv', mode='r') as file:\n",
    "    reader = csv.reader(file)\n",
    "    url_list = [row for row in reader]  # Read the rest of the rows"
   ]
  },
  {
   "cell_type": "code",
   "execution_count": 4,
   "metadata": {},
   "outputs": [
    {
     "data": {
      "text/plain": [
       "[['https://data.nasdaq.com/databases/RTAT'],\n",
       " ['https://data.nasdaq.com/databases/EVML'],\n",
       " ['https://data.nasdaq.com/databases/EVMLW'],\n",
       " ['https://data.nasdaq.com/databases/SEP'],\n",
       " ['https://data.nasdaq.com/databases/EVAF'],\n",
       " ['https://data.nasdaq.com/databases/EOD'],\n",
       " ['https://data.nasdaq.com/databases/SFA'],\n",
       " ['https://data.nasdaq.com/databases/ECD'],\n",
       " ['https://data.nasdaq.com/databases/SF1'],\n",
       " ['https://data.nasdaq.com/databases/ZFB'],\n",
       " ['https://data.nasdaq.com/databases/ZES'],\n",
       " ['https://data.nasdaq.com/databases/MF1'],\n",
       " ['https://data.nasdaq.com/databases/WVD'],\n",
       " ['https://data.nasdaq.com/databases/WVBBT'],\n",
       " ['https://data.nasdaq.com/databases/NDWTA'],\n",
       " ['https://data.nasdaq.com/databases/NDWFUNDTA'],\n",
       " ['https://data.nasdaq.com/databases/NDWEQTA'],\n",
       " ['https://data.nasdaq.com/databases/ETFC'],\n",
       " ['https://data.nasdaq.com/databases/ETFCCA'],\n",
       " ['https://data.nasdaq.com/databases/PTSR'],\n",
       " ['https://data.nasdaq.com/databases/SFB'],\n",
       " ['https://data.nasdaq.com/databases/SF3'],\n",
       " ['https://data.nasdaq.com/databases/SF2'],\n",
       " ['https://data.nasdaq.com/databases/SFP'],\n",
       " ['https://data.nasdaq.com/databases/FXH1'],\n",
       " ['https://data.nasdaq.com/databases/FXD1'],\n",
       " ['https://data.nasdaq.com/databases/E360'],\n",
       " ['https://data.nasdaq.com/databases/SLD'],\n",
       " ['https://data.nasdaq.com/databases/IDR'],\n",
       " ['https://data.nasdaq.com/databases/COIT'],\n",
       " ['https://data.nasdaq.com/databases/OPT2'],\n",
       " ['https://data.nasdaq.com/databases/OSMV'],\n",
       " ['https://data.nasdaq.com/databases/NAEOD'],\n",
       " ['https://data.nasdaq.com/databases/EUEOD'],\n",
       " ['https://data.nasdaq.com/databases/ASEOD'],\n",
       " ['https://data.nasdaq.com/databases/ODA'],\n",
       " ['https://data.nasdaq.com/databases/CFTC'],\n",
       " ['https://data.nasdaq.com/databases/OPEC'],\n",
       " ['https://data.nasdaq.com/databases/JODI'],\n",
       " ['https://data.nasdaq.com/databases/RB1'],\n",
       " ['https://data.nasdaq.com/databases/BITFINEX'],\n",
       " ['https://data.nasdaq.com/databases/OPT'],\n",
       " ['https://data.nasdaq.com/databases/BCHAIN'],\n",
       " ['https://data.nasdaq.com/databases/ICI4'],\n",
       " ['https://data.nasdaq.com/databases/LME'],\n",
       " ['https://data.nasdaq.com/databases/ICI3'],\n",
       " ['https://data.nasdaq.com/databases/ICI2'],\n",
       " ['https://data.nasdaq.com/databases/VOL'],\n",
       " ['https://data.nasdaq.com/databases/ICI1'],\n",
       " ['https://data.nasdaq.com/databases/QRM'],\n",
       " ['https://data.nasdaq.com/databases/VOLX'],\n",
       " ['https://data.nasdaq.com/databases/QOR'],\n",
       " ['https://data.nasdaq.com/databases/QOA'],\n",
       " ['https://data.nasdaq.com/databases/EVB'],\n",
       " ['https://data.nasdaq.com/databases/BCMX'],\n",
       " ['https://data.nasdaq.com/databases/BCMGEX'],\n",
       " ['https://data.nasdaq.com/databases/BCLFE'],\n",
       " ['https://data.nasdaq.com/databases/BCIW'],\n",
       " ['https://data.nasdaq.com/databases/CUR'],\n",
       " ['https://data.nasdaq.com/databases/BCIP'],\n",
       " ['https://data.nasdaq.com/databases/EA1'],\n",
       " ['https://data.nasdaq.com/databases/BCIO'],\n",
       " ['https://data.nasdaq.com/databases/BCII'],\n",
       " ['https://data.nasdaq.com/databases/BCICEC'],\n",
       " ['https://data.nasdaq.com/databases/BCICE'],\n",
       " ['https://data.nasdaq.com/databases/LOGO'],\n",
       " ['https://data.nasdaq.com/databases/BCEUX'],\n",
       " ['https://data.nasdaq.com/databases/TRIS'],\n",
       " ['https://data.nasdaq.com/databases/TRID'],\n",
       " ['https://data.nasdaq.com/databases/TRIBS'],\n",
       " ['https://data.nasdaq.com/databases/IAIR'],\n",
       " ['https://data.nasdaq.com/databases/IAID'],\n",
       " ['https://data.nasdaq.com/databases/IAIA'],\n",
       " ['https://data.nasdaq.com/databases/AIER'],\n",
       " ['https://data.nasdaq.com/databases/MWIS'],\n",
       " ['https://data.nasdaq.com/databases/AIERS'],\n",
       " ['https://data.nasdaq.com/databases/NTV'],\n",
       " ['https://data.nasdaq.com/databases/NB'],\n",
       " ['https://data.nasdaq.com/databases/NLS'],\n",
       " ['https://data.nasdaq.com/databases/NGIDS'],\n",
       " ['https://data.nasdaq.com/databases/UIT'],\n",
       " ['https://data.nasdaq.com/databases/TIICB'],\n",
       " ['https://data.nasdaq.com/databases/NEID'],\n",
       " ['https://data.nasdaq.com/databases/MTN'],\n",
       " ['https://data.nasdaq.com/databases/MFR'],\n",
       " ['https://data.nasdaq.com/databases/ETFTE'],\n",
       " ['https://data.nasdaq.com/databases/CEFUR'],\n",
       " ['https://data.nasdaq.com/databases/BENZ'],\n",
       " ['https://data.nasdaq.com/databases/BDCUR'],\n",
       " ['https://data.nasdaq.com/databases/VERIFY'],\n",
       " ['https://data.nasdaq.com/databases/DY4'],\n",
       " ['https://data.nasdaq.com/databases/ASINDU'],\n",
       " ['https://data.nasdaq.com/databases/EFPH'],\n",
       " ['https://data.nasdaq.com/databases/NMR'],\n",
       " ['https://data.nasdaq.com/databases/NMO'],\n",
       " ['https://data.nasdaq.com/databases/NMOT'],\n",
       " ['https://data.nasdaq.com/databases/NMOS'],\n",
       " ['https://data.nasdaq.com/databases/NMDM'],\n",
       " ['https://data.nasdaq.com/databases/NITB'],\n",
       " ['https://data.nasdaq.com/databases/NIOT'],\n",
       " ['https://data.nasdaq.com/databases/NIOS'],\n",
       " ['https://data.nasdaq.com/databases/NIOO'],\n",
       " ['https://data.nasdaq.com/databases/NIDM'],\n",
       " ['https://data.nasdaq.com/databases/NGVUS'],\n",
       " ['https://data.nasdaq.com/databases/NGTB'],\n",
       " ['https://data.nasdaq.com/databases/NGO'],\n",
       " ['https://data.nasdaq.com/databases/NGOT'],\n",
       " ['https://data.nasdaq.com/databases/NGODM'],\n",
       " ['https://data.nasdaq.com/databases/NFDR'],\n",
       " ['https://data.nasdaq.com/databases/NDSV'],\n",
       " ['https://data.nasdaq.com/databases/NDL'],\n",
       " ['https://data.nasdaq.com/databases/NDAQM'],\n",
       " ['https://data.nasdaq.com/databases/NCB'],\n",
       " ['https://data.nasdaq.com/databases/NBX'],\n",
       " ['https://data.nasdaq.com/databases/NBV'],\n",
       " ['https://data.nasdaq.com/databases/NBTV'],\n",
       " ['https://data.nasdaq.com/databases/NBTB'],\n",
       " ['https://data.nasdaq.com/databases/NBSS'],\n",
       " ['https://data.nasdaq.com/databases/NBODM'],\n",
       " ['https://data.nasdaq.com/databases/NBM'],\n",
       " ['https://data.nasdaq.com/databases/ITTO'],\n",
       " ['https://data.nasdaq.com/databases/EVCORE'],\n",
       " ['https://data.nasdaq.com/databases/EVALRT'],\n",
       " ['https://data.nasdaq.com/databases/EVADV'],\n",
       " ['https://data.nasdaq.com/databases/CQT'],\n",
       " ['https://data.nasdaq.com/databases/BONO'],\n",
       " ['https://data.nasdaq.com/databases/TRDSUMOTC'],\n",
       " ['https://data.nasdaq.com/databases/TRDSUMBUNDLE'],\n",
       " ['https://data.nasdaq.com/databases/BICRS'],\n",
       " ['https://data.nasdaq.com/databases/DADOB'],\n",
       " ['https://data.nasdaq.com/databases/DATOB'],\n",
       " ['https://data.nasdaq.com/databases/DAT'],\n",
       " ['https://data.nasdaq.com/databases/RFA'],\n",
       " ['https://data.nasdaq.com/databases/ARPT'],\n",
       " ['https://data.nasdaq.com/databases/MFTB'],\n",
       " ['https://data.nasdaq.com/databases/MWIS'],\n",
       " ['https://data.nasdaq.com/databases/OWIS'],\n",
       " ['https://data.nasdaq.com/databases/ZEA'],\n",
       " ['https://data.nasdaq.com/databases/USETH'],\n",
       " ['https://data.nasdaq.com/databases/PMMS'],\n",
       " ['https://data.nasdaq.com/databases/PMMD'],\n",
       " ['https://data.nasdaq.com/databases/ZSE'],\n",
       " ['https://data.nasdaq.com/databases/ZEE'],\n",
       " ['https://data.nasdaq.com/databases/ZAR'],\n",
       " ['https://data.nasdaq.com/databases/ZSS'],\n",
       " ['https://data.nasdaq.com/databases/ZET'],\n",
       " ['https://data.nasdaq.com/databases/USEDH'],\n",
       " ['https://data.nasdaq.com/databases/ZUSP'],\n",
       " ['https://data.nasdaq.com/databases/ZREV'],\n",
       " ['https://data.nasdaq.com/databases/ZIHC'],\n",
       " ['https://data.nasdaq.com/databases/ZHH'],\n",
       " ['https://data.nasdaq.com/databases/ZER'],\n",
       " ['https://data.nasdaq.com/databases/ZTP'],\n",
       " ['https://data.nasdaq.com/databases/ZSES'],\n",
       " ['https://data.nasdaq.com/databases/ZSEH'],\n",
       " ['https://data.nasdaq.com/databases/ZSEE'],\n",
       " ['https://data.nasdaq.com/databases/ZRH'],\n",
       " ['https://data.nasdaq.com/databases/ZPH'],\n",
       " ['https://data.nasdaq.com/databases/ZITM'],\n",
       " ['https://data.nasdaq.com/databases/ZHM'],\n",
       " ['https://data.nasdaq.com/databases/ZGH'],\n",
       " ['https://data.nasdaq.com/databases/ZEEH'],\n",
       " ['https://data.nasdaq.com/databases/ZEBE'],\n",
       " ['https://data.nasdaq.com/databases/ZFC'],\n",
       " ['https://data.nasdaq.com/databases/ZFA'],\n",
       " ['https://data.nasdaq.com/databases/DY1'],\n",
       " ['https://data.nasdaq.com/databases/DY6'],\n",
       " ['https://data.nasdaq.com/databases/DY9'],\n",
       " ['https://data.nasdaq.com/databases/ETFICA'],\n",
       " ['https://data.nasdaq.com/databases/ETFGCA'],\n",
       " ['https://data.nasdaq.com/databases/ETFFCA'],\n",
       " ['https://data.nasdaq.com/databases/CAG'],\n",
       " ['https://data.nasdaq.com/databases/CAGHD'],\n",
       " ['https://data.nasdaq.com/databases/DY4'],\n",
       " ['https://data.nasdaq.com/databases/DY2'],\n",
       " ['https://data.nasdaq.com/databases/DY3'],\n",
       " ['https://data.nasdaq.com/databases/DY5'],\n",
       " ['https://data.nasdaq.com/databases/ZCP'],\n",
       " ['https://data.nasdaq.com/databases/WCA'],\n",
       " ['https://data.nasdaq.com/databases/EQR'],\n",
       " ['https://data.nasdaq.com/databases/ZHDM'],\n",
       " ['https://data.nasdaq.com/databases/ASTRAN'],\n",
       " ['https://data.nasdaq.com/databases/ASN100']]"
      ]
     },
     "execution_count": 4,
     "metadata": {},
     "output_type": "execute_result"
    }
   ],
   "source": [
    "url_list"
   ]
  },
  {
   "cell_type": "markdown",
   "metadata": {},
   "source": [
    "Example: https://data.nasdaq.com/databases/RTAT"
   ]
  },
  {
   "cell_type": "code",
   "execution_count": 5,
   "metadata": {},
   "outputs": [],
   "source": [
    "driver = uc.Chrome(headless=True, use_subprocess=False)\n",
    "driver.get('https://data.nasdaq.com/databases/RTAT')\n",
    "page_source = driver.page_source\n",
    "soup = BeautifulSoup(page_source, \"html.parser\")\n",
    "driver.quit()"
   ]
  },
  {
   "cell_type": "code",
   "execution_count": 6,
   "metadata": {},
   "outputs": [],
   "source": [
    "table = soup.find(\"section\", attrs={\"data-anchor\": \"anchor-data-organization\"}).find(\"div\", attrs={\"class\": \"documentation-markdown\"}).find(\"table\")"
   ]
  },
  {
   "cell_type": "code",
   "execution_count": 7,
   "metadata": {},
   "outputs": [
    {
     "data": {
      "text/plain": [
       "<table><thead><tr><th>TABLE</th><th>TABLE CODE</th><th>TABLE DESCRIPTION</th></tr></thead><tbody><tr><td><a href=\"https://data.nasdaq.com/databases/RTAT/documentation?anchor=retail-trading-activity-tracker-daily-top-10-free-ndaq-rtat10-\">Retail Trading Activity Tracker - Daily Top 10 (Free)</a></td><td>NDAQ/RTAT10</td><td>Daily ticker-level insights into retail activity and sentiment (top 10 tickers as ranked by activity)</td></tr><tr><td><a href=\"https://data.nasdaq.com/databases/RTAT/documentation?anchor=retail-trading-activity-tracker-daily-full-universe-premium-ndaq-rtat-\">Retail Trading Activity Tracker - Daily Full Universe (Premium)</a></td><td>NDAQ/RTAT</td><td>Daily ticker-level insights into retail activity and sentiment</td></tr></tbody></table>"
      ]
     },
     "execution_count": 7,
     "metadata": {},
     "output_type": "execute_result"
    }
   ],
   "source": [
    "table"
   ]
  },
  {
   "cell_type": "markdown",
   "metadata": {},
   "source": [
    "Transform the table element above to pandas dataframe"
   ]
  },
  {
   "cell_type": "code",
   "execution_count": 8,
   "metadata": {},
   "outputs": [],
   "source": [
    "def table_to_df(table):\n",
    "    try:\n",
    "        header = [th.text for th in table.find('thead').find_all('th')]\n",
    "        rows = []\n",
    "        for tr in table.find('tbody').find_all('tr'):\n",
    "            cells = []\n",
    "            for td in tr.find_all('td'):\n",
    "                a = td.find('a')\n",
    "                if a:\n",
    "                    cell_content = a.text\n",
    "                else:\n",
    "                    cell_content = td.text\n",
    "                cells.append(cell_content)\n",
    "            rows.append(cells)\n",
    "        df = pd.DataFrame(rows, columns=header)\n",
    "        \n",
    "    except:\n",
    "        table_code = None\n",
    "        df = pd.DataFrame({'TABLE CODE': [table_code]})\n",
    "    return df"
   ]
  },
  {
   "cell_type": "code",
   "execution_count": 50,
   "metadata": {},
   "outputs": [
    {
     "name": "stderr",
     "output_type": "stream",
     "text": [
      "could not detect version_main.therefore, we are assuming it is chrome 108 or higher\n"
     ]
    },
    {
     "name": "stdout",
     "output_type": "stream",
     "text": [
      "Success!https://data.nasdaq.com/databases/RTAT\n",
      "Success!https://data.nasdaq.com/databases/EVML\n",
      "Success!https://data.nasdaq.com/databases/EVMLW\n",
      "Success!https://data.nasdaq.com/databases/SEP\n",
      "Success!https://data.nasdaq.com/databases/EVAF\n",
      "Success!https://data.nasdaq.com/databases/EOD\n",
      "Success!https://data.nasdaq.com/databases/SFA\n",
      "Success!https://data.nasdaq.com/databases/ECD\n",
      "Success!https://data.nasdaq.com/databases/SF1\n",
      "Success!https://data.nasdaq.com/databases/ZFB\n",
      "Success!https://data.nasdaq.com/databases/ZES\n",
      "Success!https://data.nasdaq.com/databases/MF1\n",
      "Success!https://data.nasdaq.com/databases/WVD\n",
      "Success!https://data.nasdaq.com/databases/WVBBT\n",
      "Success!https://data.nasdaq.com/databases/NDWTA\n",
      "Success!https://data.nasdaq.com/databases/NDWFUNDTA\n",
      "Success!https://data.nasdaq.com/databases/NDWEQTA\n",
      "Success!https://data.nasdaq.com/databases/ETFC\n"
     ]
    },
    {
     "ename": "KeyboardInterrupt",
     "evalue": "",
     "output_type": "error",
     "traceback": [
      "\u001b[1;31m---------------------------------------------------------------------------\u001b[0m",
      "\u001b[1;31mKeyboardInterrupt\u001b[0m                         Traceback (most recent call last)",
      "Cell \u001b[1;32mIn[50], line 5\u001b[0m\n\u001b[0;32m      3\u001b[0m \u001b[38;5;28;01mfor\u001b[39;00m page \u001b[38;5;129;01min\u001b[39;00m url_list:\n\u001b[0;32m      4\u001b[0m         driver\u001b[38;5;241m.\u001b[39mget(page[\u001b[38;5;241m0\u001b[39m])\n\u001b[1;32m----> 5\u001b[0m         \u001b[43mtime\u001b[49m\u001b[38;5;241;43m.\u001b[39;49m\u001b[43msleep\u001b[49m\u001b[43m(\u001b[49m\u001b[38;5;241;43m6\u001b[39;49m\u001b[43m)\u001b[49m\n\u001b[0;32m      6\u001b[0m         \u001b[38;5;28mprint\u001b[39m(\u001b[38;5;124m'\u001b[39m\u001b[38;5;124mSuccess!\u001b[39m\u001b[38;5;124m'\u001b[39m \u001b[38;5;241m+\u001b[39m page[\u001b[38;5;241m0\u001b[39m])\n\u001b[0;32m      7\u001b[0m         page_source_test \u001b[38;5;241m=\u001b[39m driver\u001b[38;5;241m.\u001b[39mpage_source\n",
      "\u001b[1;31mKeyboardInterrupt\u001b[0m: "
     ]
    }
   ],
   "source": [
    "dataframes = []\n",
    "driver = uc.Chrome(headless=True,use_subprocess=False)\n",
    "for page in url_list:\n",
    "        driver.get(page[0])\n",
    "        time.sleep(6)\n",
    "        print('Success!' + page[0])\n",
    "        page_source_test = driver.page_source\n",
    "        soup_test = BeautifulSoup(page_source_test, \"html.parser\")\n",
    "        try:\n",
    "                table = soup_test.find(\"section\", attrs={\"data-anchor\": \"anchor-data-organization\"}).find(\"div\", attrs={\"class\": \"documentation-markdown\"}).find(\"table\")\n",
    "        except:\n",
    "                table = None\n",
    "        df = table_to_df(table)\n",
    "        df['urls'] = page[0]\n",
    "        dataframes.append(df)"
   ]
  },
  {
   "cell_type": "code",
   "execution_count": 9,
   "metadata": {},
   "outputs": [
    {
     "ename": "SyntaxError",
     "evalue": "invalid syntax (32758748.py, line 16)",
     "output_type": "error",
     "traceback": [
      "\u001b[1;36m  Cell \u001b[1;32mIn[9], line 16\u001b[1;36m\u001b[0m\n\u001b[1;33m    print(f'Data saved to {'table_code.csv'}')\u001b[0m\n\u001b[1;37m                            ^\u001b[0m\n\u001b[1;31mSyntaxError\u001b[0m\u001b[1;31m:\u001b[0m invalid syntax\n"
     ]
    }
   ],
   "source": [
    "tc = []\n",
    "for i in dataframes:\n",
    "    try: \n",
    "        a = i['TABLE CODE'].values.tolist()\n",
    "        tc.append(i['TABLE CODE'].values.tolist())\n",
    "    except:\n",
    "        try:\n",
    "            a = i['Quandl Code'].values.tolist()\n",
    "            tc.append(i['TABLE CODE'].values.tolist())\n",
    "        except:\n",
    "            tc.append([None])\n",
    "\n",
    "with open('table_code.csv', 'w', newline='') as file:\n",
    "    writer = csv.writer(file)\n",
    "    writer.writerows(tc)\n",
    "print(f'Data saved to {'table_code.csv'}')"
   ]
  }
 ],
 "metadata": {
  "kernelspec": {
   "display_name": "Python 3 (ipykernel)",
   "language": "python",
   "name": "python3"
  },
  "language_info": {
   "codemirror_mode": {
    "name": "ipython",
    "version": 3
   },
   "file_extension": ".py",
   "mimetype": "text/x-python",
   "name": "python",
   "nbconvert_exporter": "python",
   "pygments_lexer": "ipython3",
   "version": "3.10.6"
  }
 },
 "nbformat": 4,
 "nbformat_minor": 4
}
